{
 "cells": [
  {
   "cell_type": "markdown",
   "id": "41b4f960",
   "metadata": {},
   "source": [
    "# Libraries"
   ]
  },
  {
   "cell_type": "code",
   "execution_count": 3,
   "id": "9eeb5cdb",
   "metadata": {},
   "outputs": [],
   "source": [
    "from gensim.models import Word2Vec, KeyedVectors\n",
    "import pandas as pd\n",
    "import nltk\n",
    "import tqdm"
   ]
  },
  {
   "cell_type": "markdown",
   "id": "f09ad83e",
   "metadata": {},
   "source": [
    "# Downloads"
   ]
  },
  {
   "cell_type": "code",
   "execution_count": 2,
   "id": "31effe06",
   "metadata": {},
   "outputs": [
    {
     "name": "stdout",
     "output_type": "stream",
     "text": [
      "showing info https://raw.githubusercontent.com/nltk/nltk_data/gh-pages/index.xml\n"
     ]
    }
   ],
   "source": [
    "# nltk.download()"
   ]
  },
  {
   "cell_type": "markdown",
   "id": "13e9614f",
   "metadata": {},
   "source": [
    "# Model Manipulations"
   ]
  },
  {
   "cell_type": "code",
   "execution_count": 7,
   "id": "90c48f4a",
   "metadata": {},
   "outputs": [],
   "source": [
    "# load model\n",
    "model = Word2Vec.load(\"../outputs/word2vec.model\")"
   ]
  },
  {
   "cell_type": "code",
   "execution_count": 10,
   "id": "374f2420",
   "metadata": {},
   "outputs": [
    {
     "data": {
      "text/plain": [
       "[('aid', 0.556803822517395),\n",
       " ('america', 0.5123018622398376),\n",
       " ('diqqətəlayiqdir', 0.4983066916465759),\n",
       " ('ləşən', 0.49243882298469543),\n",
       " ('hörməti', 0.47282901406288147),\n",
       " ('tərzdə', 0.46586042642593384),\n",
       " ('ə', 0.45590218901634216),\n",
       " ('minarələr', 0.4194865822792053),\n",
       " ('yaxınlığında', 0.41936036944389343),\n",
       " ('ən', 0.4093855023384094)]"
      ]
     },
     "execution_count": 10,
     "metadata": {},
     "output_type": "execute_result"
    }
   ],
   "source": [
    "model.wv.most_similar('i', topn=10)"
   ]
  },
  {
   "cell_type": "code",
   "execution_count": 12,
   "id": "0ef79fa2",
   "metadata": {},
   "outputs": [
    {
     "data": {
      "text/plain": [
       "[('vaxtı', 0.5180186629295349),\n",
       " ('boyunca', 0.5085983872413635),\n",
       " ('qüvvəsinə', 0.4492083191871643),\n",
       " ('yollanan', 0.4448308050632477),\n",
       " ('haqqı', 0.44193586707115173),\n",
       " ('vaxt', 0.43445447087287903),\n",
       " ('al', 0.4201916456222534),\n",
       " ('proqramları', 0.41813233494758606),\n",
       " ('müəllifi', 0.39694347977638245),\n",
       " ('problemi', 0.3922530710697174)]"
      ]
     },
     "execution_count": 12,
     "metadata": {},
     "output_type": "execute_result"
    }
   ],
   "source": [
    "model.wv.most_similar(positive=['və', 'aid'], negative=['ə'], topn=10)"
   ]
  },
  {
   "cell_type": "code",
   "execution_count": 13,
   "id": "ca888cef",
   "metadata": {},
   "outputs": [
    {
     "data": {
      "text/plain": [
       "[('amerikalıların', 0.5616006851196289),\n",
       " ('i', 0.5344529151916504),\n",
       " ('not', 0.5296568274497986),\n",
       " ('aid', 0.46996575593948364),\n",
       " ('meydançasında', 0.4441291391849518),\n",
       " ('hörməti', 0.4288029670715332),\n",
       " ('kitabda', 0.42035847902297974),\n",
       " ('america', 0.4176707863807678),\n",
       " ('sədəf', 0.4123195707798004),\n",
       " ('ləşən', 0.40442487597465515)]"
      ]
     },
     "execution_count": 13,
     "metadata": {},
     "output_type": "execute_result"
    }
   ],
   "source": [
    "model.wv.most_similar(positive=['minarələr', 'müəllifi'], negative=['proqramları'],topn=10)"
   ]
  }
 ],
 "metadata": {
  "kernelspec": {
   "display_name": "Python 3 (ipykernel)",
   "language": "python",
   "name": "python3"
  },
  "language_info": {
   "codemirror_mode": {
    "name": "ipython",
    "version": 3
   },
   "file_extension": ".py",
   "mimetype": "text/x-python",
   "name": "python",
   "nbconvert_exporter": "python",
   "pygments_lexer": "ipython3",
   "version": "3.8.10"
  }
 },
 "nbformat": 4,
 "nbformat_minor": 5
}
